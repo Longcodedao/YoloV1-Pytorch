{
 "cells": [
  {
   "cell_type": "code",
   "execution_count": 4,
   "id": "cdf319a1-4372-4c22-afe8-3a5d91287ff2",
   "metadata": {},
   "outputs": [],
   "source": [
    "import torch\n",
    "from torch.utils.data import Dataset\n",
    "import torchvision.transforms as transforms\n",
    "\n",
    "import os\n",
    "import random\n",
    "import numpy as np\n",
    "import cv2\n",
    "import random"
   ]
  },
  {
   "cell_type": "markdown",
   "id": "6d32ec31-ecfb-48f3-aa1b-6b924e6d1a3d",
   "metadata": {},
   "source": [
    "### VOC Dataset"
   ]
  },
  {
   "cell_type": "code",
   "execution_count": 2,
   "id": "eaa10861-9d06-4540-8665-3bcbec17401b",
   "metadata": {},
   "outputs": [],
   "source": [
    "VOC_COLORS = {\n",
    "    'aeroplane': (255, 0, 0),\n",
    "    'bicycle': (0, 255, 0),\n",
    "    'bird': (0, 0, 255),\n",
    "    'boat': (255, 255, 0),\n",
    "    'bottle': (255, 0, 255),\n",
    "    'bus': (0, 255, 255),\n",
    "    'car': (128, 0, 0),\n",
    "    'cat': (0, 128, 0),\n",
    "    'chair': (0, 0, 128),\n",
    "    'cow': (128, 128, 0),\n",
    "    'diningtable': (128, 0, 128),\n",
    "    'dog': (0, 128, 128),\n",
    "    'horse': (128, 128, 128),\n",
    "    'motorbike': (64, 0, 0),\n",
    "    'person': (0, 64, 0),\n",
    "    'pottedplant': (0, 0, 64),\n",
    "    'sheep': (64, 64, 0),\n",
    "    'sofa': (64, 0, 64),\n",
    "    'train': (0, 64, 64),\n",
    "    'tvmonitor': (64, 64, 64)\n",
    "}"
   ]
  },
  {
   "cell_type": "code",
   "execution_count": 3,
   "id": "1be6be6b-d385-4608-a5fc-b27ed47e82cc",
   "metadata": {},
   "outputs": [],
   "source": [
    "label2idx = {label: idx for idx, label in enumerate(VOC_COLORS.keys())}\n",
    "idx2label = {idx: label for idx, label in enumerate(VOC_COLORS.keys())}"
   ]
  },
  {
   "cell_type": "code",
   "execution_count": null,
   "id": "59b846d2-ab6d-49ca-a4a3-901beb2b12a3",
   "metadata": {},
   "outputs": [],
   "source": [
    "class VOCDataset(Dataset):\n",
    "    def __init__(self, is_train, image_dir, label_txt, \n",
    "                 image_size = 448, grid_size = 7, num_bboxes = 2, num_classes = 20):\n",
    "        self.is_train = is_train\n",
    "        self.image_dir = image_dir\n",
    "        self.label_txt = label_txt\n",
    "\n",
    "        self.labels = []\n",
    "        self.boxes = []\n",
    "        self.paths = []\n",
    "        \n",
    "        with open(self.label_txt, 'r') as f:\n",
    "            content = f.readlines()\n",
    "            for label in content:\n",
    "                total_label = label.strip().split()\n",
    "\n",
    "                file_name = total_label[0]\n",
    "                num_boxes = (len(total_label) - 1) // 5 \n",
    "                box, label = [], []\n",
    "                \n",
    "                for i in range(num_boxes):\n",
    "                    xmin = float(total_label[5 * i + 1])\n",
    "                    ymin = float(total_label[5 * i + 2])\n",
    "                    xmax = float(total_label[5 * i + 3])\n",
    "                    ymax = float(total_label[5 * i + 4])\n",
    "                    c = int(total_label[5 * i + 5])\n",
    "\n",
    "                    box.append([xmin, ymin, xmax, ymax])\n",
    "                    label.append(c)\n",
    "                    \n",
    "                box = torch.Tensor(box)\n",
    "                label = torch.Tensor(label)\n",
    "                self.boxes.append(box)\n",
    "                self.labels.append(label)\n",
    "                self.paths.append(os.path.join(image_dir, file_name)\n",
    "\n",
    "    def random_flip(self, img, boxes):\n",
    "        if random.random() < 0.5:\n",
    "            return img, boxes\n",
    "\n",
    "        h, w, _ = img.shape\n",
    "        img = np.fliplr(img)\n",
    "\n",
    "        x_min, x_max = boxes[:, 0], boxes[:, 2]\n",
    "        xf_min, xf_max = w - x_max,  w - x_min\n",
    "        boxes[:, 0], boxes[:, 2] = xf_min, xf_max\n",
    "\n",
    "        return img, boxes\n",
    "\n",
    "    def random_scale(self, img, boxes):\n",
    "        scale = r\n",
    "        \n",
    "                            \n",
    "                    \n",
    "        "
   ]
  }
 ],
 "metadata": {
  "kernelspec": {
   "display_name": "Python 3 (ipykernel)",
   "language": "python",
   "name": "python3"
  },
  "language_info": {
   "codemirror_mode": {
    "name": "ipython",
    "version": 3
   },
   "file_extension": ".py",
   "mimetype": "text/x-python",
   "name": "python",
   "nbconvert_exporter": "python",
   "pygments_lexer": "ipython3",
   "version": "3.10.11"
  }
 },
 "nbformat": 4,
 "nbformat_minor": 5
}
